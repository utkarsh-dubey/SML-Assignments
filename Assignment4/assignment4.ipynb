{
 "cells": [
  {
   "cell_type": "markdown",
   "id": "49701c3f",
   "metadata": {},
   "source": [
    "# Question 1"
   ]
  },
  {
   "cell_type": "code",
   "execution_count": 5,
   "id": "e5004839",
   "metadata": {},
   "outputs": [],
   "source": [
    "import numpy as np\n",
    "import matplotlib.pyplot as plt\n",
    "import pickle\n",
    "from mlxtend.data import loadlocal_mnist\n",
    "from sklearn.tree import DecisionTreeRegressor\n",
    "from sklearn.metrics import accuracy_score"
   ]
  },
  {
   "cell_type": "code",
   "execution_count": 122,
   "id": "3a2c9739",
   "metadata": {},
   "outputs": [
    {
     "name": "stdout",
     "output_type": "stream",
     "text": [
      "(60000, 784) (60000,) (10000, 784) (10000,)\n"
     ]
    }
   ],
   "source": [
    "xTrain,yTrain=loadlocal_mnist(images_path='./mnist/train-images.idx3-ubyte', labels_path='./mnist/train-labels.idx1-ubyte')\n",
    "xTest,yTest = loadlocal_mnist(images_path='./mnist/t10k-images.idx3-ubyte', labels_path='./mnist/t10k-labels.idx1-ubyte')\n",
    "print(xTrain.shape,yTrain.shape,xTest.shape,yTest.shape)"
   ]
  },
  {
   "cell_type": "code",
   "execution_count": 6,
   "id": "659b8128",
   "metadata": {},
   "outputs": [],
   "source": [
    "class GradientBoosting:\n",
    "    learningRate = None\n",
    "    maxDepth = None\n",
    "    maxIterations = None\n",
    "    models = []\n",
    "    f = None\n",
    "    \n",
    "    def __init__(self,learningRate=0.1,maxDepth=20,maxIterations=30):\n",
    "        self.learningRate = learningRate\n",
    "        self.maxDepth = maxDepth\n",
    "        self.maxIterations = maxIterations\n",
    "    \n",
    "    \n",
    "    def fit(self,xTrain,yTrain,xTest,yTest):\n",
    "        \n",
    "        self.f = np.mean(yTrain)\n",
    "        trainAccuracy = []\n",
    "        testAccuracy = []\n",
    "        \n",
    "        for i in range(self.maxIterations):\n",
    "            \n",
    "            currentPredictions = self.predict(xTrain)\n",
    "            model = DecisionTreeRegressor(max_depth = self.maxDepth)\n",
    "            model.fit(xTrain,yTrain-currentPredictions)\n",
    "            \n",
    "            self.models.append(model)\n",
    "            \n",
    "            trainPredictions = self.predictions(xTrain)\n",
    "            testPredictions = self.predictions(xTest)\n",
    "            trainAcc = accuracy_score(trainPredictions,yTrain)\n",
    "            testAcc = accuracy_score(testPredictions,yTest)\n",
    "            \n",
    "            trainAccuracy.append(trainAcc)\n",
    "            testAccuracy.append(testAcc)\n",
    "            \n",
    "        return trainAccuracy,testAccuracy\n",
    "    \n",
    "    def predict(self,x):\n",
    "        \n",
    "        return self.f + self.learningRate*sum([model.predict(x) for model in self.models])\n",
    "    \n",
    "    def predictions(self,x):\n",
    "        \n",
    "        yPred = np.round(self.predict(x))\n",
    "        yPred[yPred<0] = 0\n",
    "        yPred[yPred>9] = 9\n",
    "        return yPred "
   ]
  },
  {
   "cell_type": "code",
   "execution_count": 7,
   "id": "119de492",
   "metadata": {},
   "outputs": [],
   "source": [
    "model = GradientBoosting(maxDepth=1,learningRate=0.1,maxIterations=5)\n",
    "trainingAccuracy, testAccuracy = model.fit(xTrain,yTrain,xTest,yTest)"
   ]
  },
  {
   "cell_type": "code",
   "execution_count": 10,
   "id": "62eb3170",
   "metadata": {},
   "outputs": [
    {
     "data": {
      "image/png": "[encoded data removed]",
      "text/plain": [
       "<Figure size 432x288 with 1 Axes>"
      ]
     },
     "metadata": {
      "needs_background": "light"
     },
     "output_type": "display_data"
    },
    {
     "name": "stdout",
     "output_type": "stream",
     "text": [
      "Final test accuracy = 0.0528\n"
     ]
    }
   ],
   "source": [
    "plt.plot(range(1,6),trainingAccuracy,label=\"Train Accuracy\")\n",
    "plt.plot(range(1,6),testAccuracy,label=\"Test Accuracy\")\n",
    "plt.xlabel(\"Iterations\")\n",
    "plt.ylabel(\"Accuracy\")\n",
    "plt.legend()\n",
    "plt.title(\"Iterations vs Train/Test Accuracy for Grandient Boost\")\n",
    "plt.show()\n",
    "print(\"Final test accuracy =\",testAccuracy[-1])"
   ]
  },
  {
   "cell_type": "code",
   "execution_count": 11,
   "id": "175cd46c",
   "metadata": {},
   "outputs": [],
   "source": [
    "with open('q1_model.pkl',\"wb\") as handle:\n",
    "        pickle.dump(model,handle)"
   ]
  },
  {
   "cell_type": "markdown",
   "id": "fcb5dc17",
   "metadata": {},
   "source": [
    "# Question 2"
   ]
  },
  {
   "cell_type": "code",
   "execution_count": 44,
   "id": "874d226a",
   "metadata": {},
   "outputs": [
    {
     "name": "stdout",
     "output_type": "stream",
     "text": [
      "Collecting torchvision==0.11.0Note: you may need to restart the kernel to use updated packages.\n",
      "  Using cached torchvision-0.11.0-cp37-cp37m-win_amd64.whl (984 kB)\n"
     ]
    },
    {
     "name": "stderr",
     "output_type": "stream",
     "text": [
      "ERROR: Could not find a version that satisfies the requirement torch==1.10.0+cpu (from torchvision) (from versions: 1.7.0, 1.7.1, 1.8.0, 1.8.1, 1.9.0, 1.9.1, 1.10.0, 1.10.1, 1.10.2, 1.11.0)\n",
      "ERROR: No matching distribution found for torch==1.10.0+cpu\n",
      "WARNING: You are using pip version 21.1.1; however, version 22.1 is available.\n",
      "You should consider upgrading via the 'c:\\users\\utkarsh\\appdata\\local\\programs\\python\\python37\\python.exe -m pip install --upgrade pip' command.\n"
     ]
    },
    {
     "name": "stdout",
     "output_type": "stream",
     "text": [
      "\n",
      "Requirement already satisfied: numpy in c:\\users\\utkarsh\\appdata\\local\\programs\\python\\python37\\lib\\site-packages (from torchvision==0.11.0) (1.21.5)\n",
      "Requirement already satisfied: pillow!=8.3.0,>=5.3.0 in c:\\users\\utkarsh\\appdata\\local\\programs\\python\\python37\\lib\\site-packages (from torchvision==0.11.0) (9.0.1)\n"
     ]
    }
   ],
   "source": [
    "pip install torchvision==0.11.0"
   ]
  },
  {
   "cell_type": "code",
   "execution_count": 47,
   "id": "ab139a62",
   "metadata": {
    "scrolled": true
   },
   "outputs": [],
   "source": [
    "import torch\n",
    "import torch.nn as nn\n",
    "import torch.nn.functional as functions\n",
    "import tensorflow\n",
    "import torchvision\n",
    "from torchvision import datasets, transforms"
   ]
  },
  {
   "cell_type": "code",
   "execution_count": 106,
   "id": "86bbf35f",
   "metadata": {},
   "outputs": [],
   "source": [
    "# xTrain,yTrain=loadlocal_mnist(images_path='./fmnist/train-images-idx3-ubyte', labels_path='./fmnist/train-labels-idx1-ubyte')\n",
    "# xTest,yTest = loadlocal_mnist(images_path='./fmnist/t10k-images-idx3-ubyte', labels_path='./fmnist/t10k-labels-idx1-ubyte')\n",
    "\n",
    "transform = transforms.ToTensor()\n",
    "train_data = datasets.FashionMNIST(root='data', train=True, download=True, transform=transform)\n",
    "test_data = datasets.FashionMNIST(root='data', train=False, download=True, transform=transform)\n",
    "\n",
    "train_loader = torch.utils.data.DataLoader(train_data, batch_size=128)\n",
    "test_loader = torch.utils.data.DataLoader(test_data, batch_size=128)\n",
    "\n"
   ]
  },
  {
   "cell_type": "code",
   "execution_count": 13,
   "id": "821fac56",
   "metadata": {},
   "outputs": [
    {
     "name": "stdout",
     "output_type": "stream",
     "text": [
      "(60000, 784) (60000,) (10000, 784) (10000,)\n"
     ]
    }
   ],
   "source": [
    "# print(xTrain.shape,yTrain.shape,xTest.shape,yTest.shape)"
   ]
  },
  {
   "cell_type": "code",
   "execution_count": 107,
   "id": "783214bb",
   "metadata": {},
   "outputs": [],
   "source": [
    "class NeuralNetwork(nn.Module):\n",
    "    \n",
    "    inputSize = None\n",
    "    def __init__(self,inputSize,totalClasses):\n",
    "        super(NeuralNetwork,self).__init__()\n",
    "        self.inputSize = inputSize\n",
    "        self.fc1 = nn.Linear(inputSize,512)\n",
    "        self.fc2 = nn.Linear(512,256)\n",
    "        self.fc3 = nn.Linear(256,64)\n",
    "        self.fc4 = nn.Linear(64,totalClasses)\n",
    "        \n",
    "        nn.init.xavier_uniform_(self.fc1.weight)\n",
    "        nn.init.xavier_uniform_(self.fc2.weight)\n",
    "        nn.init.xavier_uniform_(self.fc3.weight)\n",
    "        \n",
    "    def forward(self, x):\n",
    "        \n",
    "        x = self.fc1(x)\n",
    "        x = functions.relu(x)\n",
    "        x = self.fc2(x)\n",
    "        x = functions.relu(x)\n",
    "        x = self.fc3(x)\n",
    "        x = functions.relu(x)\n",
    "        x = self.fc4(x)\n",
    "        return x"
   ]
  },
  {
   "cell_type": "code",
   "execution_count": 108,
   "id": "4bad6be6",
   "metadata": {},
   "outputs": [
    {
     "name": "stdout",
     "output_type": "stream",
     "text": [
      "NeuralNetwork(\n",
      "  (fc1): Linear(in_features=784, out_features=512, bias=True)\n",
      "  (fc2): Linear(in_features=512, out_features=256, bias=True)\n",
      "  (fc3): Linear(in_features=256, out_features=64, bias=True)\n",
      "  (fc4): Linear(in_features=64, out_features=10, bias=True)\n",
      ")\n"
     ]
    }
   ],
   "source": [
    "model = NeuralNetwork(inputSize=784,totalClasses=10)\n",
    "print(model)"
   ]
  },
  {
   "cell_type": "code",
   "execution_count": 109,
   "id": "dbf72e18",
   "metadata": {},
   "outputs": [
    {
     "name": "stdout",
     "output_type": "stream",
     "text": [
      "loss =  0.5517042875289917\n",
      "loss =  0.46172332763671875\n",
      "loss =  0.4175527095794678\n",
      "loss =  0.37563011050224304\n",
      "loss =  0.34378114342689514\n",
      "loss =  0.31917604804039\n",
      "loss =  0.30047503113746643\n",
      "loss =  0.2879427373409271\n",
      "loss =  0.27492913603782654\n",
      "loss =  0.26402607560157776\n"
     ]
    }
   ],
   "source": [
    "criterion = nn.CrossEntropyLoss()\n",
    "epochs = 10\n",
    "learningRate = 0.05\n",
    "batchSize = 128\n",
    "optimizer = torch.optim.SGD(model.parameters(),lr=learningRate)\n",
    "\n",
    "lossToPlot = []\n",
    "\n",
    "model.train()\n",
    "# xTrain = torch.Tensor(xTrain, requires_grad=True)\n",
    "# yTrain = torch.Tensor(yTrain, requires_grad=True)\n",
    "for epoch in range(epochs):\n",
    "    for data in train_loader:\n",
    "        \n",
    "#         print(\"working\")\n",
    "#         print(xTrain[i])\n",
    "#         print(torch.tensor(xTrain[i]))\n",
    "        image,label = data\n",
    "        image = image.reshape(-1,28*28)\n",
    "        outputs = model(image)\n",
    "        loss = criterion(outputs,label)\n",
    "        \n",
    "        optimizer.zero_grad()\n",
    "        loss.backward()\n",
    "        optimizer.step()\n",
    "    lossToPlot.append(loss.item())\n",
    "    \n",
    "    print(\"loss = \",loss.item())\n"
   ]
  },
  {
   "cell_type": "code",
   "execution_count": 110,
   "id": "2cde5d23",
   "metadata": {},
   "outputs": [
    {
     "data": {
      "image/png": "[encoded data removed]",
      "text/plain": [
       "<Figure size 432x288 with 1 Axes>"
      ]
     },
     "metadata": {
      "needs_background": "light"
     },
     "output_type": "display_data"
    }
   ],
   "source": [
    "plt.plot(range(1,epochs+1),lossToPlot)\n",
    "plt.xlabel(\"Epochs\")\n",
    "plt.ylabel(\"Loss\")\n",
    "plt.title(\"Epochs vs Loss plot for Forward Feed Neural Network on Fashion MNIST\")\n",
    "plt.show()"
   ]
  },
  {
   "cell_type": "code",
   "execution_count": 111,
   "id": "db9cf301",
   "metadata": {},
   "outputs": [],
   "source": [
    "yTrue = []\n",
    "yPred = []\n",
    "\n",
    "model.eval()\n",
    "with torch.no_grad():\n",
    "    \n",
    "    for data in test_loader:\n",
    "        image, label = data\n",
    "        image = image.reshape(-1,28*28)\n",
    "        output = model(image)\n",
    "        \n",
    "        _, prediction = torch.max(output.data, dim=1)\n",
    "        \n",
    "        yTrue += label.cpu()\n",
    "        yPred += prediction.cpu()"
   ]
  },
  {
   "cell_type": "code",
   "execution_count": 112,
   "id": "eb5b4adc",
   "metadata": {},
   "outputs": [
    {
     "name": "stdout",
     "output_type": "stream",
     "text": [
      "Test Accuracy: 0.8713\n"
     ]
    }
   ],
   "source": [
    "print(\"Test Accuracy:\",accuracy_score(yTrue, yPred))"
   ]
  },
  {
   "cell_type": "code",
   "execution_count": 113,
   "id": "5fc55d36",
   "metadata": {},
   "outputs": [
    {
     "name": "stdout",
     "output_type": "stream",
     "text": [
      "Class Wise Accuracy:\n",
      "class 1 : 0.86\n",
      "class 2 : 0.967\n",
      "class 3 : 0.722\n",
      "class 4 : 0.902\n",
      "class 5 : 0.826\n",
      "class 6 : 0.979\n",
      "class 7 : 0.614\n",
      "class 8 : 0.936\n",
      "class 9 : 0.975\n",
      "class 10 : 0.932\n"
     ]
    }
   ],
   "source": [
    "matrix = confusion_matrix(yTrue, yPred)\n",
    "classAcc = matrix.diagonal()/matrix.sum(axis=1)\n",
    "print(\"Class Wise Accuracy:\")\n",
    "for i in range(len(classAcc)):\n",
    "    print(\"class\",str(i+1),\":\",classAcc[i])"
   ]
  },
  {
   "cell_type": "code",
   "execution_count": 114,
   "id": "b0e932ce",
   "metadata": {},
   "outputs": [],
   "source": [
    "with open('q2_model.pkl',\"wb\") as handle:\n",
    "        pickle.dump(model,handle)"
   ]
  },
  {
   "cell_type": "markdown",
   "id": "3fb94c30",
   "metadata": {},
   "source": [
    "# Question 3"
   ]
  },
  {
   "cell_type": "code",
   "execution_count": 82,
   "id": "c0b1a01f",
   "metadata": {},
   "outputs": [],
   "source": [
    "from sklearn.metrics import confusion_matrix"
   ]
  },
  {
   "cell_type": "code",
   "execution_count": 59,
   "id": "47959fc5",
   "metadata": {},
   "outputs": [
    {
     "name": "stdout",
     "output_type": "stream",
     "text": [
      "Downloading http://yann.lecun.com/exdb/mnist/train-images-idx3-ubyte.gz\n",
      "Downloading http://yann.lecun.com/exdb/mnist/train-images-idx3-ubyte.gz to data\\MNIST\\raw\\train-images-idx3-ubyte.gz\n"
     ]
    },
    {
     "data": {
      "application/vnd.jupyter.widget-view+json": {
       "model_id": "e81489547c64482da75ff61a9b15f576",
       "version_major": 2,
       "version_minor": 0
      },
      "text/plain": [
       "  0%|          | 0/9912422 [00:00<?, ?it/s]"
      ]
     },
     "metadata": {},
     "output_type": "display_data"
    },
    {
     "name": "stdout",
     "output_type": "stream",
     "text": [
      "Extracting data\\MNIST\\raw\\train-images-idx3-ubyte.gz to data\\MNIST\\raw\n",
      "\n",
      "Downloading http://yann.lecun.com/exdb/mnist/train-labels-idx1-ubyte.gz\n",
      "Downloading http://yann.lecun.com/exdb/mnist/train-labels-idx1-ubyte.gz to data\\MNIST\\raw\\train-labels-idx1-ubyte.gz\n"
     ]
    },
    {
     "data": {
      "application/vnd.jupyter.widget-view+json": {
       "model_id": "78915af61ea94eadaf99a4f647242f03",
       "version_major": 2,
       "version_minor": 0
      },
      "text/plain": [
       "  0%|          | 0/28881 [00:00<?, ?it/s]"
      ]
     },
     "metadata": {},
     "output_type": "display_data"
    },
    {
     "name": "stdout",
     "output_type": "stream",
     "text": [
      "Extracting data\\MNIST\\raw\\train-labels-idx1-ubyte.gz to data\\MNIST\\raw\n",
      "\n",
      "Downloading http://yann.lecun.com/exdb/mnist/t10k-images-idx3-ubyte.gz\n",
      "Downloading http://yann.lecun.com/exdb/mnist/t10k-images-idx3-ubyte.gz to data\\MNIST\\raw\\t10k-images-idx3-ubyte.gz\n"
     ]
    },
    {
     "data": {
      "application/vnd.jupyter.widget-view+json": {
       "model_id": "0dbeb8c050f44ae9ae5d4c510535e6a8",
       "version_major": 2,
       "version_minor": 0
      },
      "text/plain": [
       "  0%|          | 0/1648877 [00:00<?, ?it/s]"
      ]
     },
     "metadata": {},
     "output_type": "display_data"
    },
    {
     "name": "stdout",
     "output_type": "stream",
     "text": [
      "Extracting data\\MNIST\\raw\\t10k-images-idx3-ubyte.gz to data\\MNIST\\raw\n",
      "\n",
      "Downloading http://yann.lecun.com/exdb/mnist/t10k-labels-idx1-ubyte.gz\n",
      "Downloading http://yann.lecun.com/exdb/mnist/t10k-labels-idx1-ubyte.gz to data\\MNIST\\raw\\t10k-labels-idx1-ubyte.gz\n"
     ]
    },
    {
     "data": {
      "application/vnd.jupyter.widget-view+json": {
       "model_id": "102bc56e6c2541deb5292b1a2087813c",
       "version_major": 2,
       "version_minor": 0
      },
      "text/plain": [
       "  0%|          | 0/4542 [00:00<?, ?it/s]"
      ]
     },
     "metadata": {},
     "output_type": "display_data"
    },
    {
     "name": "stdout",
     "output_type": "stream",
     "text": [
      "Extracting data\\MNIST\\raw\\t10k-labels-idx1-ubyte.gz to data\\MNIST\\raw\n",
      "\n"
     ]
    }
   ],
   "source": [
    "transform = transforms.ToTensor()\n",
    "train_data = datasets.MNIST(root='data', train=True, download=True, transform=transform)\n",
    "test_data = datasets.MNIST(root='data', train=False, download=True, transform=transform)\n",
    "\n",
    "train_loader = torch.utils.data.DataLoader(train_data, batch_size=128)\n",
    "test_loader = torch.utils.data.DataLoader(test_data, batch_size=128)"
   ]
  },
  {
   "cell_type": "code",
   "execution_count": 68,
   "id": "aeebb7a8",
   "metadata": {},
   "outputs": [],
   "source": [
    "class AutoEncoder(nn.Module):\n",
    "    \n",
    "    def __init__(self):\n",
    "        \n",
    "        super(AutoEncoder, self).__init__()\n",
    "        self.encoder = nn.Sequential(\n",
    "            nn.Linear(784,512),\n",
    "            nn.ReLU(),\n",
    "            nn.Linear(512,256),\n",
    "            nn.ReLU(),\n",
    "            nn.Linear(256,128),\n",
    "            nn.ReLU(),\n",
    "            nn.Linear(128,64),\n",
    "            nn.ReLU())    \n",
    "        self.decoder = nn.Sequential(\n",
    "            nn.Linear(64,128),\n",
    "            nn.ReLU(),\n",
    "            nn.Linear(128,512),\n",
    "            nn.ReLU(),\n",
    "            nn.Linear(512,784),\n",
    "            nn.ReLU())\n",
    "    \n",
    "    def forward(self, x):\n",
    "        x = self.encoder(x)\n",
    "        x = self.decoder(x)\n",
    "        return x"
   ]
  },
  {
   "cell_type": "code",
   "execution_count": 69,
   "id": "f8aff138",
   "metadata": {},
   "outputs": [
    {
     "name": "stdout",
     "output_type": "stream",
     "text": [
      "AutoEncoder(\n",
      "  (encoder): Sequential(\n",
      "    (0): Linear(in_features=784, out_features=512, bias=True)\n",
      "    (1): ReLU()\n",
      "    (2): Linear(in_features=512, out_features=256, bias=True)\n",
      "    (3): ReLU()\n",
      "    (4): Linear(in_features=256, out_features=128, bias=True)\n",
      "    (5): ReLU()\n",
      "    (6): Linear(in_features=128, out_features=64, bias=True)\n",
      "    (7): ReLU()\n",
      "  )\n",
      "  (decoder): Sequential(\n",
      "    (0): Linear(in_features=64, out_features=128, bias=True)\n",
      "    (1): ReLU()\n",
      "    (2): Linear(in_features=128, out_features=512, bias=True)\n",
      "    (3): ReLU()\n",
      "    (4): Linear(in_features=512, out_features=784, bias=True)\n",
      "    (5): ReLU()\n",
      "  )\n",
      ")\n"
     ]
    }
   ],
   "source": [
    "model = AutoEncoder()\n",
    "print(model)"
   ]
  },
  {
   "cell_type": "code",
   "execution_count": 70,
   "id": "542fb0a6",
   "metadata": {},
   "outputs": [
    {
     "name": "stdout",
     "output_type": "stream",
     "text": [
      "loss =  0.03175076097249985\n",
      "loss =  0.02443133480846882\n",
      "loss =  0.02115972712635994\n",
      "loss =  0.019614754244685173\n",
      "loss =  0.017588496208190918\n",
      "loss =  0.016687341034412384\n",
      "loss =  0.01620674692094326\n",
      "loss =  0.015535562299191952\n",
      "loss =  0.015242397785186768\n",
      "loss =  0.01483254972845316\n"
     ]
    }
   ],
   "source": [
    "criterion = nn.MSELoss()\n",
    "epochs = 10\n",
    "learningRate = 0.001\n",
    "batchSize = 128\n",
    "optimizer = torch.optim.Adam(model.parameters(),lr=learningRate)\n",
    "\n",
    "lossToPlot = []\n",
    "\n",
    "model.train()\n",
    "# xTrain = torch.Tensor(xTrain, requires_grad=True)\n",
    "# yTrain = torch.Tensor(yTrain, requires_grad=True)\n",
    "for epoch in range(epochs):\n",
    "    for data in train_loader:\n",
    "        \n",
    "#         print(\"working\")\n",
    "#         print(xTrain[i])\n",
    "#         print(torch.tensor(xTrain[i]))\n",
    "        image,label = data\n",
    "        image = image.reshape(-1,28*28)\n",
    "        outputs = model(image)\n",
    "        loss = criterion(outputs,image)\n",
    "    \n",
    "        optimizer.zero_grad()\n",
    "        loss.backward()\n",
    "        optimizer.step()\n",
    "    lossToPlot.append(loss.item())\n",
    "    \n",
    "    print(\"loss = \",loss.item())\n"
   ]
  },
  {
   "cell_type": "code",
   "execution_count": 71,
   "id": "8ea40dba",
   "metadata": {},
   "outputs": [
    {
     "data": {
      "image/png": "[encoded data removed]",
      "text/plain": [
       "<Figure size 432x288 with 1 Axes>"
      ]
     },
     "metadata": {
      "needs_background": "light"
     },
     "output_type": "display_data"
    }
   ],
   "source": [
    "plt.plot(range(1,epochs+1),lossToPlot)\n",
    "plt.xlabel(\"Epochs\")\n",
    "plt.ylabel(\"Loss\")\n",
    "plt.title(\"Epochs vs Loss plot for Autoencoder on MNIST\")\n",
    "plt.show()"
   ]
  },
  {
   "cell_type": "code",
   "execution_count": 72,
   "id": "a6a99ab5",
   "metadata": {},
   "outputs": [],
   "source": [
    "with open('q3_autoencoder_model.pkl',\"wb\") as handle:\n",
    "        pickle.dump(model,handle)"
   ]
  },
  {
   "cell_type": "code",
   "execution_count": 73,
   "id": "d774b2af",
   "metadata": {},
   "outputs": [],
   "source": [
    "class MNISTClassificationModel(nn.Module):\n",
    "    \n",
    "    def __init__(self,AutoEncoderModel):\n",
    "        super(MNISTClassificationModel,self).__init__()\n",
    "        \n",
    "        self.model = nn.Sequential(\n",
    "            AutoEncoderModel.encoder,\n",
    "            nn.Linear(64,32),\n",
    "            nn.ReLU(),\n",
    "            nn.Linear(32,10))\n",
    "    \n",
    "    def forward(self, x):\n",
    "        return self.model(x)"
   ]
  },
  {
   "cell_type": "code",
   "execution_count": 76,
   "id": "cb3fed1f",
   "metadata": {},
   "outputs": [
    {
     "name": "stdout",
     "output_type": "stream",
     "text": [
      "MNISTClassificationModel(\n",
      "  (model): Sequential(\n",
      "    (0): Sequential(\n",
      "      (0): Linear(in_features=784, out_features=512, bias=True)\n",
      "      (1): ReLU()\n",
      "      (2): Linear(in_features=512, out_features=256, bias=True)\n",
      "      (3): ReLU()\n",
      "      (4): Linear(in_features=256, out_features=128, bias=True)\n",
      "      (5): ReLU()\n",
      "      (6): Linear(in_features=128, out_features=64, bias=True)\n",
      "      (7): ReLU()\n",
      "    )\n",
      "    (1): Linear(in_features=64, out_features=32, bias=True)\n",
      "    (2): ReLU()\n",
      "    (3): Linear(in_features=32, out_features=10, bias=True)\n",
      "  )\n",
      ")\n"
     ]
    }
   ],
   "source": [
    "classificationModel = MNISTClassificationModel(model)\n",
    "print(classificationModel)"
   ]
  },
  {
   "cell_type": "code",
   "execution_count": 78,
   "id": "540fe0bb",
   "metadata": {},
   "outputs": [
    {
     "name": "stdout",
     "output_type": "stream",
     "text": [
      "loss =  0.22920309007167816\n",
      "loss =  0.22367125749588013\n",
      "loss =  0.16556724905967712\n",
      "loss =  0.14786189794540405\n",
      "loss =  0.11837640404701233\n",
      "loss =  0.0979129746556282\n",
      "loss =  0.07362712174654007\n",
      "loss =  0.07006869465112686\n",
      "loss =  0.07602279633283615\n",
      "loss =  0.05916726589202881\n",
      "loss =  0.07520507276058197\n",
      "loss =  0.0812196210026741\n",
      "loss =  0.049476366490125656\n",
      "loss =  0.04729672893881798\n",
      "loss =  0.038793813437223434\n"
     ]
    }
   ],
   "source": [
    "criterion = nn.CrossEntropyLoss()\n",
    "epochs = 15\n",
    "learningRate = 0.001\n",
    "batchSize = 128\n",
    "optimizer = torch.optim.Adam(classificationModel.parameters(),lr=learningRate)\n",
    "\n",
    "lossToPlot = []\n",
    "\n",
    "classificationModel.train()\n",
    "# xTrain = torch.Tensor(xTrain, requires_grad=True)\n",
    "# yTrain = torch.Tensor(yTrain, requires_grad=True)\n",
    "for epoch in range(epochs):\n",
    "    for data in train_loader:\n",
    "        \n",
    "#         print(\"working\")\n",
    "#         print(xTrain[i])\n",
    "#         print(torch.tensor(xTrain[i]))\n",
    "        image,label = data\n",
    "        image = image.reshape(-1,28*28)\n",
    "        outputs = classificationModel(image)\n",
    "        loss = criterion(outputs,label)\n",
    "        \n",
    "        optimizer.zero_grad()\n",
    "        loss.backward()\n",
    "        optimizer.step()\n",
    "    lossToPlot.append(loss.item())\n",
    "    \n",
    "    print(\"loss = \",loss.item())"
   ]
  },
  {
   "cell_type": "code",
   "execution_count": 79,
   "id": "132bed9f",
   "metadata": {},
   "outputs": [
    {
     "data": {
      "image/png": "[encoded data removed]",
      "text/plain": [
       "<Figure size 432x288 with 1 Axes>"
      ]
     },
     "metadata": {
      "needs_background": "light"
     },
     "output_type": "display_data"
    }
   ],
   "source": [
    "plt.plot(range(1,epochs+1),lossToPlot)\n",
    "plt.xlabel(\"Epochs\")\n",
    "plt.ylabel(\"Loss\")\n",
    "plt.title(\"Epochs vs Loss plot for Classification Model on MNIST\")\n",
    "plt.show()"
   ]
  },
  {
   "cell_type": "code",
   "execution_count": 80,
   "id": "007417ce",
   "metadata": {},
   "outputs": [],
   "source": [
    "yTrue = []\n",
    "yPred = []\n",
    "\n",
    "classificationModel.eval()\n",
    "with torch.no_grad():\n",
    "    \n",
    "    for data in test_loader:\n",
    "        image, label = data\n",
    "        image = image.reshape(-1,28*28)\n",
    "        output = classificationModel(image)\n",
    "        _, prediction = torch.max(output.data, dim=1)\n",
    "        \n",
    "        yTrue += label.cpu()\n",
    "        yPred += prediction.cpu()"
   ]
  },
  {
   "cell_type": "code",
   "execution_count": 83,
   "id": "5d3e9fda",
   "metadata": {},
   "outputs": [
    {
     "name": "stdout",
     "output_type": "stream",
     "text": [
      "Test Accuracy: 0.9829\n",
      "Class-Wise Accuracy:\n",
      "class 1 : 0.9908163265306122\n",
      "class 2 : 0.9876651982378855\n",
      "class 3 : 0.9874031007751938\n",
      "class 4 : 0.9861386138613861\n",
      "class 5 : 0.9796334012219959\n",
      "class 6 : 0.9876681614349776\n",
      "class 7 : 0.9770354906054279\n",
      "class 8 : 0.9863813229571985\n",
      "class 9 : 0.9691991786447639\n",
      "class 10 : 0.9762140733399405\n"
     ]
    }
   ],
   "source": [
    "matrix = confusion_matrix(yTrue, yPred)\n",
    "classAcc = matrix.diagonal()/matrix.sum(axis=1)\n",
    "print(\"Test Accuracy:\",accuracy_score(yTrue, yPred))\n",
    "print(\"Class Wise Accuracy:\")\n",
    "for i in range(len(classAcc)):\n",
    "    print(\"class\",str(i+1),\":\",classAcc[i])"
   ]
  },
  {
   "cell_type": "code",
   "execution_count": 84,
   "id": "7d849632",
   "metadata": {},
   "outputs": [],
   "source": [
    "with open('q3_classificationMNIST_model.pkl',\"wb\") as handle:\n",
    "        pickle.dump(classificationModel,handle)"
   ]
  },
  {
   "cell_type": "markdown",
   "id": "b71d3980",
   "metadata": {},
   "source": [
    "# Question 4"
   ]
  },
  {
   "cell_type": "code",
   "execution_count": 86,
   "id": "9aa9b30a",
   "metadata": {},
   "outputs": [],
   "source": [
    "from sklearn.tree import DecisionTreeClassifier"
   ]
  },
  {
   "cell_type": "code",
   "execution_count": 85,
   "id": "9dd3df64",
   "metadata": {},
   "outputs": [
    {
     "name": "stdout",
     "output_type": "stream",
     "text": [
      "(60000, 784) (60000,) (10000, 784) (10000,)\n"
     ]
    }
   ],
   "source": [
    "xTrain,yTrain=loadlocal_mnist(images_path='./mnist/train-images.idx3-ubyte', labels_path='./mnist/train-labels.idx1-ubyte')\n",
    "xTest,yTest = loadlocal_mnist(images_path='./mnist/t10k-images.idx3-ubyte', labels_path='./mnist/t10k-labels.idx1-ubyte')\n",
    "print(xTrain.shape,yTrain.shape,xTest.shape,yTest.shape)"
   ]
  },
  {
   "cell_type": "code",
   "execution_count": 100,
   "id": "f8fc253d",
   "metadata": {},
   "outputs": [],
   "source": [
    "class BaggingModel:\n",
    "    models = []\n",
    "    bagSize = None\n",
    "    \n",
    "    def __init__(self,bagSize):\n",
    "        self.bagSize = bagSize\n",
    "    \n",
    "    def fit(self,xTrain,yTrain):\n",
    "        \n",
    "        for bag in range(self.bagSize):\n",
    "            pick = np.random.choice(np.arange(xTrain.shape[0]), size = xTrain.shape[0], replace = True)         \n",
    "            chosenX = xTrain[pick]\n",
    "            chosenY = yTrain[pick]\n",
    "            model = DecisionTreeClassifier()\n",
    "            model.fit(chosenX,chosenY)\n",
    "            self.models.append(model)\n",
    "    \n",
    "    def predict(self, x):\n",
    "        \n",
    "        predictions = np.zeros((len(self.models),len(x)))\n",
    "        for i in range(len(self.models)):\n",
    "            predictions[i] = self.models[i].predict(x)\n",
    "        yPred = []\n",
    "        for i in range(predictions.shape[1]):\n",
    "            prediction = np.bincount(np.array(predictions[:,i],dtype=np.int64)).argmax()\n",
    "            yPred.append(prediction)\n",
    "        \n",
    "        return yPred\n",
    "        "
   ]
  },
  {
   "cell_type": "code",
   "execution_count": 101,
   "id": "d8f61eff",
   "metadata": {},
   "outputs": [],
   "source": [
    "model = BaggingModel(3)"
   ]
  },
  {
   "cell_type": "code",
   "execution_count": 102,
   "id": "76292224",
   "metadata": {},
   "outputs": [],
   "source": [
    "model.fit(xTrain,yTrain)"
   ]
  },
  {
   "cell_type": "code",
   "execution_count": 103,
   "id": "ea2b9092",
   "metadata": {},
   "outputs": [],
   "source": [
    "yPred = model.predict(xTest)"
   ]
  },
  {
   "cell_type": "code",
   "execution_count": 104,
   "id": "2fb48b3c",
   "metadata": {},
   "outputs": [
    {
     "name": "stdout",
     "output_type": "stream",
     "text": [
      "Test Accuracy: 0.9008\n",
      "Class-Wise Accuracy:\n",
      "class 1 : 0.9704081632653061\n",
      "class 2 : 0.9779735682819384\n",
      "class 3 : 0.8914728682170543\n",
      "class 4 : 0.8891089108910891\n",
      "class 5 : 0.9124236252545825\n",
      "class 6 : 0.8632286995515696\n",
      "class 7 : 0.8966597077244259\n",
      "class 8 : 0.9105058365758755\n",
      "class 9 : 0.8162217659137577\n",
      "class 10 : 0.865213082259663\n"
     ]
    }
   ],
   "source": [
    "matrix = confusion_matrix(yTest, yPred)\n",
    "classAcc = matrix.diagonal()/matrix.sum(axis=1)\n",
    "print(\"Test Accuracy:\",accuracy_score(yTest, yPred))\n",
    "print(\"Class Wise Accuracy:\")\n",
    "for i in range(len(classAcc)):\n",
    "    print(\"class\",str(i+1),\":\",classAcc[i])"
   ]
  },
  {
   "cell_type": "code",
   "execution_count": 105,
   "id": "938e6c5e",
   "metadata": {},
   "outputs": [],
   "source": [
    "with open('q4_model.pkl',\"wb\") as handle:\n",
    "        pickle.dump(model,handle)"
   ]
  },
  {
   "cell_type": "code",
   "execution_count": 120,
   "id": "379e5a5a",
   "metadata": {},
   "outputs": [],
   "source": [
    "with open('q1_model.pkl',\"rb\") as handle:\n",
    "        model1 = pickle.load(handle)"
   ]
  },
  {
   "cell_type": "code",
   "execution_count": 121,
   "id": "03ffbac8",
   "metadata": {},
   "outputs": [
    {
     "name": "stdout",
     "output_type": "stream",
     "text": [
      "[DecisionTreeRegressor(max_depth=1), DecisionTreeRegressor(max_depth=1), DecisionTreeRegressor(max_depth=1), DecisionTreeRegressor(max_depth=1), DecisionTreeRegressor(max_depth=1)]\n"
     ]
    }
   ],
   "source": [
    "print(model1.models)"
   ]
  },
  {
   "cell_type": "code",
   "execution_count": 123,
   "id": "86420a27",
   "metadata": {},
   "outputs": [],
   "source": [
    "yPred = model1.predictions(xTest)"
   ]
  },
  {
   "cell_type": "code",
   "execution_count": null,
   "id": "adff01a1",
   "metadata": {},
   "outputs": [],
   "source": [
    "print(\"Accurancy =\",accuracy_score(yTest, yPred))"
   ]
  },
  {
   "cell_type": "code",
   "execution_count": null,
   "id": "ce59e5fc",
   "metadata": {},
   "outputs": [],
   "source": []
  }
 ],
 "metadata": {
  "kernelspec": {
   "display_name": "Python 3",
   "language": "python",
   "name": "python3"
  },
  "language_info": {
   "codemirror_mode": {
    "name": "ipython",
    "version": 3
   },
   "file_extension": ".py",
   "mimetype": "text/x-python",
   "name": "python",
   "nbconvert_exporter": "python",
   "pygments_lexer": "ipython3",
   "version": "3.7.4"
  }
 },
 "nbformat": 4,
 "nbformat_minor": 5
}
