{
 "cells": [
  {
   "cell_type": "code",
   "execution_count": 9,
   "id": "754588f7",
   "metadata": {},
   "outputs": [],
   "source": [
    "import numpy as np\n",
    "from mlxtend.data import loadlocal_mnist\n",
    "import matplotlib.pyplot as plt\n",
    "from sklearn.discriminant_analysis import LinearDiscriminantAnalysis\n",
    "from sklearn.preprocessing import StandardScaler \n",
    "from sklearn.decomposition import PCA\n",
    "from sklearn.preprocessing import StandardScaler\n",
    "from sklearn.metrics import confusion_matrix"
   ]
  },
  {
   "cell_type": "code",
   "execution_count": 2,
   "id": "e4d889ab",
   "metadata": {},
   "outputs": [],
   "source": [
    "xTrain,yTrain=loadlocal_mnist(images_path='./mnist/train-images.idx3-ubyte', labels_path='./mnist/train-labels.idx1-ubyte')\n",
    "xTest,yTest = loadlocal_mnist(images_path='./mnist/t10k-images.idx3-ubyte', labels_path='./mnist/t10k-labels.idx1-ubyte')"
   ]
  },
  {
   "cell_type": "code",
   "execution_count": 3,
   "id": "497856f3",
   "metadata": {},
   "outputs": [
    {
     "name": "stdout",
     "output_type": "stream",
     "text": [
      "(60000, 784) (60000,)\n"
     ]
    }
   ],
   "source": [
    "print(xTrain.shape,yTrain.shape)"
   ]
  },
  {
   "cell_type": "code",
   "execution_count": 4,
   "id": "dc20c086",
   "metadata": {},
   "outputs": [],
   "source": [
    "#class for FDA\n",
    "class FDA:\n",
    "    W = None\n",
    "    eigenValues = None\n",
    "    Sw, Sb = None, None\n",
    "\n",
    "    def __init__(self):\n",
    "        W = None\n",
    "        eigenValues = None\n",
    "        Sw, Sb = None, None\n",
    "        \n",
    "    def fit(self, x, y):\n",
    "        Sw,Sb = self.getScatters(x, y)\n",
    "        self.Sw = Sw\n",
    "        self.Sb = Sb\n",
    "        Sw_inv_Sb = np.matmul(np.linalg.inv(Sw), Sb)\n",
    "        eigValues, eigVectors = np.linalg.eigh(Sw_inv_Sb)\n",
    "        idx = eigValues.argsort()[::-1]   \n",
    "        eigVectors = eigVectors[:,idx]\n",
    "        eigValues = eigValues[idx]\n",
    "        rank = np.linalg.matrix_rank(Sb)\n",
    "        eigVectors = eigVectors[:,:rank]\n",
    "        eigValues  = eigValues[:rank]\n",
    "        self.eigenValues = eigValues\n",
    "        self.W = eigVectors\n",
    "\n",
    "    def getScatters(self, x, y):\n",
    "        Si = []\n",
    "        uniqueY = np.unique(y)\n",
    "        for label in uniqueY:\n",
    "            indexes = np.where(y == label)[0]\n",
    "            selectedX = x[indexes]\n",
    "            selectedXTrans = selectedX.T\n",
    "            scatterMatrix = np.cov(selectedXTrans, ddof=0) * selectedXTrans.shape[1]\n",
    "            Si.append(scatterMatrix)\n",
    "        Sw = np.zeros(Si[0].shape)\n",
    "        for scatterMatrix in Si:\n",
    "            Sw += scatterMatrix\n",
    "            \n",
    "        xTrans = x.T\n",
    "        St = np.cov(xTrans, ddof=0) * xTrans.shape[1]\n",
    "        Sb = St - Sw\n",
    "        \n",
    "        return Sw,Sb"
   ]
  },
  {
   "cell_type": "code",
   "execution_count": 8,
   "id": "f2b55088",
   "metadata": {},
   "outputs": [
    {
     "name": "stdout",
     "output_type": "stream",
     "text": [
      "Accuracy we get is -  79.36999999999999 %\n"
     ]
    }
   ],
   "source": [
    "scaler = StandardScaler()\n",
    "scaler.fit(xTrain)\n",
    "pca = PCA(n_components=15)\n",
    "\n",
    "xTrain = scaler.transform(xTrain)\n",
    "xTest = scaler.transform(xTest)\n",
    "\n",
    "pca.fit(xTrain)\n",
    "xTrain = pca.transform(xTrain)\n",
    "xTest = pca.transform(xTest)\n",
    "\n",
    "fda = FDA()\n",
    "fda.fit(xTrain,yTrain)\n",
    "\n",
    "W = fda.W\n",
    "xTrainProjected = np.matmul(W.T,xTrain.T).T\n",
    "xTestProjected = np.matmul(W.T,xTest.T).T\n",
    "\n",
    "clf = LinearDiscriminantAnalysis()\n",
    "clf.fit(xTrainProjected,yTrain)\n",
    "\n",
    "print(\"Accuracy we get is - \", clf.score(xTestProjected, yTest)*100,\"%\")"
   ]
  },
  {
   "cell_type": "code",
   "execution_count": 11,
   "id": "f3fec3fe",
   "metadata": {},
   "outputs": [
    {
     "name": "stdout",
     "output_type": "stream",
     "text": [
      "Accuracy for class 0 =  86.3265306122449 %\n",
      "Accuracy for class 1 =  95.94713656387665 %\n",
      "Accuracy for class 2 =  74.70930232558139 %\n",
      "Accuracy for class 3 =  79.50495049504951 %\n",
      "Accuracy for class 4 =  76.17107942973523 %\n",
      "Accuracy for class 5 =  66.59192825112108 %\n",
      "Accuracy for class 6 =  83.08977035490605 %\n",
      "Accuracy for class 7 =  79.47470817120622 %\n",
      "Accuracy for class 8 =  74.435318275154 %\n",
      "Accuracy for class 9 =  74.13280475718534 %\n"
     ]
    }
   ],
   "source": [
    "yPredict = clf.predict(xTestProjected)\n",
    "matrix = confusion_matrix(yTest, yPredict)\n",
    "accuracyClass = matrix.diagonal()/matrix.sum(axis=1)\n",
    "for i in range(10):\n",
    "    print(\"Accuracy for class \"+str(i)+\" = \",accuracyClass[i]*100,\"%\")"
   ]
  },
  {
   "cell_type": "code",
   "execution_count": null,
   "id": "21387ccc",
   "metadata": {},
   "outputs": [],
   "source": []
  }
 ],
 "metadata": {
  "kernelspec": {
   "display_name": "Python 3",
   "language": "python",
   "name": "python3"
  },
  "language_info": {
   "codemirror_mode": {
    "name": "ipython",
    "version": 3
   },
   "file_extension": ".py",
   "mimetype": "text/x-python",
   "name": "python",
   "nbconvert_exporter": "python",
   "pygments_lexer": "ipython3",
   "version": "3.7.4"
  }
 },
 "nbformat": 4,
 "nbformat_minor": 5
}
