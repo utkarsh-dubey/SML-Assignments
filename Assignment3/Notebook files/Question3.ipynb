{
 "cells": [
  {
   "cell_type": "code",
   "execution_count": 18,
   "id": "4fc52c80",
   "metadata": {},
   "outputs": [],
   "source": [
    "import numpy as np\n",
    "from mlxtend.data import loadlocal_mnist\n",
    "import matplotlib.pyplot as plt\n",
    "from sklearn.discriminant_analysis import LinearDiscriminantAnalysis\n",
    "from sklearn.metrics import confusion_matrix"
   ]
  },
  {
   "cell_type": "code",
   "execution_count": 2,
   "id": "73ed73c8",
   "metadata": {},
   "outputs": [],
   "source": [
    "xTrain,yTrain=loadlocal_mnist(images_path='./fmnist/train-images-idx3-ubyte', labels_path='./fmnist/train-labels-idx1-ubyte')\n",
    "xTest,yTest = loadlocal_mnist(images_path='./fmnist/t10k-images-idx3-ubyte', labels_path='./fmnist/t10k-labels-idx1-ubyte')"
   ]
  },
  {
   "cell_type": "code",
   "execution_count": 3,
   "id": "9372e961",
   "metadata": {},
   "outputs": [
    {
     "name": "stdout",
     "output_type": "stream",
     "text": [
      "(60000, 784) (60000,)\n"
     ]
    }
   ],
   "source": [
    "print(xTrain.shape,yTrain.shape)"
   ]
  },
  {
   "cell_type": "code",
   "execution_count": 15,
   "id": "c0dd038e",
   "metadata": {},
   "outputs": [],
   "source": [
    "#class for FDA\n",
    "class FDA:\n",
    "    W = None\n",
    "    eigenValues = None\n",
    "    Sw, Sb = None, None\n",
    "\n",
    "    def __init__(self):\n",
    "        W = None\n",
    "        eigenValues = None\n",
    "        Sw, Sb = None, None\n",
    "        \n",
    "    def fit(self, x, y):\n",
    "        Sw,Sb = self.getScatters(x, y)\n",
    "        self.Sw = Sw\n",
    "        self.Sb = Sb\n",
    "        Sw_inv_Sb = np.matmul(np.linalg.inv(Sw), Sb)\n",
    "        eigValues, eigVectors = np.linalg.eigh(Sw_inv_Sb)\n",
    "        idx = eigValues.argsort()[::-1]   \n",
    "        eigVectors = eigVectors[:,idx]\n",
    "        eigValues = eigValues[idx]\n",
    "        rank = np.linalg.matrix_rank(Sb)\n",
    "        eigVectors = eigVectors[:,:rank]\n",
    "        eigValues  = eigValues[:rank]\n",
    "        self.eigenValues = eigValues\n",
    "        self.W = eigVectors\n",
    "\n",
    "    def getScatters(self, x, y):\n",
    "        Si = []\n",
    "        uniqueY = np.unique(y)\n",
    "        for label in uniqueY:\n",
    "            indexes = np.where(y == label)[0]\n",
    "            selectedX = x[indexes]\n",
    "            selectedXTrans = selectedX.T\n",
    "            scatterMatrix = np.cov(selectedXTrans, ddof=0) * selectedXTrans.shape[1]\n",
    "            Si.append(scatterMatrix)\n",
    "        Sw = np.zeros(Si[0].shape)\n",
    "        for scatterMatrix in Si:\n",
    "            Sw += scatterMatrix\n",
    "            \n",
    "        xTrans = x.T\n",
    "        St = np.cov(xTrans, ddof=0) * xTrans.shape[1]\n",
    "        Sb = St - Sw\n",
    "        \n",
    "        return Sw,Sb"
   ]
  },
  {
   "cell_type": "code",
   "execution_count": 16,
   "id": "980cce81",
   "metadata": {},
   "outputs": [
    {
     "name": "stdout",
     "output_type": "stream",
     "text": [
      "Accuracy by own fda =  72.25 %\n"
     ]
    }
   ],
   "source": [
    "fda = FDA()\n",
    "fda.fit(xTrain,yTrain)\n",
    "\n",
    "W = fda.W\n",
    "\n",
    "xTrainProjected = np.matmul(W.T,xTrain.T).T\n",
    "xTestProjected = np.matmul(W.T,xTest.T).T\n",
    "\n",
    "clf = LinearDiscriminantAnalysis()\n",
    "clf.fit(xTrainProjected,yTrain)\n",
    "\n",
    "print(\"Accuracy by own fda = \",clf.score(xTestProjected,yTest)*100,\"%\")\n",
    "\n",
    "\n"
   ]
  },
  {
   "cell_type": "code",
   "execution_count": 19,
   "id": "75e0725f",
   "metadata": {},
   "outputs": [
    {
     "name": "stdout",
     "output_type": "stream",
     "text": [
      "Accuracy for class 0 =  74.0 %\n",
      "Accuracy for class 1 =  87.0 %\n",
      "Accuracy for class 2 =  53.900000000000006 %\n",
      "Accuracy for class 3 =  76.3 %\n",
      "Accuracy for class 4 =  61.6 %\n",
      "Accuracy for class 5 =  78.9 %\n",
      "Accuracy for class 6 =  36.1 %\n",
      "Accuracy for class 7 =  78.2 %\n",
      "Accuracy for class 8 =  85.5 %\n",
      "Accuracy for class 9 =  91.0 %\n"
     ]
    }
   ],
   "source": [
    "yPredict = clf.predict(xTestProjected)\n",
    "matrix = confusion_matrix(yTest, yPredict)\n",
    "accuracyClass = matrix.diagonal()/matrix.sum(axis=1)\n",
    "for i in range(10):\n",
    "    print(\"Accuracy for class \"+str(i)+\" = \",accuracyClass[i]*100,\"%\")"
   ]
  },
  {
   "cell_type": "code",
   "execution_count": null,
   "id": "2868d17b",
   "metadata": {},
   "outputs": [],
   "source": []
  }
 ],
 "metadata": {
  "kernelspec": {
   "display_name": "Python 3",
   "language": "python",
   "name": "python3"
  },
  "language_info": {
   "codemirror_mode": {
    "name": "ipython",
    "version": 3
   },
   "file_extension": ".py",
   "mimetype": "text/x-python",
   "name": "python",
   "nbconvert_exporter": "python",
   "pygments_lexer": "ipython3",
   "version": "3.7.4"
  }
 },
 "nbformat": 4,
 "nbformat_minor": 5
}
